{
 "cells": [
  {
   "cell_type": "code",
   "execution_count": 1,
   "metadata": {},
   "outputs": [],
   "source": [
    "def f(x):\n",
    "    return x + 1"
   ]
  },
  {
   "cell_type": "code",
   "execution_count": 1,
   "metadata": {},
   "outputs": [
    {
     "data": {
      "text/plain": [
       "2"
      ]
     },
     "execution_count": 9,
     "metadata": {},
     "output_type": "execute_result"
    }
   ],
   "source": [
    "f(1)"
   ]
  },
  {
   "cell_type": "code",
   "execution_count": 3,
   "metadata": {},
   "outputs": [],
   "source": [
    "import numpy as np"
   ]
  },
  {
   "cell_type": "code",
   "execution_count": 4,
   "metadata": {},
   "outputs": [],
   "source": [
    "import plotly as plt"
   ]
  },
  {
   "cell_type": "code",
   "execution_count": 5,
   "metadata": {},
   "outputs": [],
   "source": [
    "data = {i : np.random.rand() for i in range(7)}"
   ]
  },
  {
   "cell_type": "code",
   "execution_count": 6,
   "metadata": {},
   "outputs": [
    {
     "data": {
      "text/plain": [
       "{0: 0.6923411299453881,\n 1: 0.411190757814186,\n 2: 0.9609045631559724,\n 3: 0.832197224177826,\n 4: 0.7788656777482997,\n 5: 0.7876158097657247,\n 6: 0.06306689856309688}"
      ]
     },
     "execution_count": 6,
     "metadata": {},
     "output_type": "execute_result"
    }
   ],
   "source": [
    "data"
   ]
  },
  {
   "cell_type": "code",
   "execution_count": 7,
   "metadata": {},
   "outputs": [],
   "source": [
    "an_apply = 27"
   ]
  },
  {
   "cell_type": "code",
   "execution_count": 8,
   "metadata": {},
   "outputs": [],
   "source": [
    "an_example = 42"
   ]
  },
  {
   "cell_type": "code",
   "execution_count": 9,
   "metadata": {},
   "outputs": [
    {
     "data": {
      "text/plain": [
       "42"
      ]
     },
     "execution_count": 9,
     "metadata": {},
     "output_type": "execute_result"
    }
   ],
   "source": [
    "an_example"
   ]
  },
  {
   "cell_type": "code",
   "execution_count": 10,
   "metadata": {},
   "outputs": [],
   "source": [
    "b = [1, 2, 3]"
   ]
  },
  {
   "cell_type": "code",
   "execution_count": 11,
   "metadata": {},
   "outputs": [],
   "source": [
    "b.append(4)"
   ]
  },
  {
   "cell_type": "code",
   "execution_count": 12,
   "metadata": {},
   "outputs": [
    {
     "data": {
      "text/plain": [
       "[1, 2, 3, 4]"
      ]
     },
     "execution_count": 12,
     "metadata": {},
     "output_type": "execute_result"
    }
   ],
   "source": [
    "b"
   ]
  },
  {
   "cell_type": "code",
   "execution_count": 13,
   "metadata": {},
   "outputs": [],
   "source": [
    "x = 5\n",
    "y = 7\n",
    "if x > 5:\n",
    "    x += 1\n",
    "    \n",
    "    y = 8"
   ]
  },
  {
   "cell_type": "code",
   "execution_count": 14,
   "metadata": {},
   "outputs": [
    {
     "name": "stderr",
     "output_type": "stream",
     "text": [
      "UsageError: Line magic function `%paste` not found.\n"
     ]
    }
   ],
   "source": [
    "%paste"
   ]
  },
  {
   "cell_type": "code",
   "execution_count": 15,
   "metadata": {},
   "outputs": [],
   "source": [
    "a = np.random.randn(100, 100)"
   ]
  },
  {
   "cell_type": "code",
   "execution_count": 16,
   "metadata": {},
   "outputs": [
    {
     "name": "stdout",
     "output_type": "stream",
     "text": [
      "The slowest run took 8.30 times longer than the fastest. This could mean that an intermediate result is being cached.\n483 µs ± 345 µs per loop (mean ± std. dev. of 7 runs, 1000 loops each)\n"
     ]
    }
   ],
   "source": [
    "%timeit np.dot(a, a)"
   ]
  },
  {
   "cell_type": "code",
   "execution_count": 18,
   "metadata": {},
   "outputs": [
    {
     "data": {
      "text/plain": [
       "'D:\\\\Users\\\\simonsm\\\\GitHub\\\\Python-for-Data-Analysis'"
      ]
     },
     "execution_count": 18,
     "metadata": {},
     "output_type": "execute_result"
    }
   ],
   "source": [
    "%pwd"
   ]
  },
  {
   "cell_type": "code",
   "execution_count": 24,
   "metadata": {},
   "outputs": [
    {
     "name": "stdout",
     "output_type": "stream",
     "text": [
      "Using matplotlib backend: TkAgg\n"
     ]
    }
   ],
   "source": [
    "%matplotlib"
   ]
  },
  {
   "cell_type": "code",
   "execution_count": 24,
   "metadata": {},
   "outputs": [
    {
     "name": "stderr",
     "output_type": "stream",
     "text": [
      "UsageError: %%debug is a cell magic, but the cell body is empty. Did you mean the line magic %debug (single %)?\n"
     ]
    }
   ],
   "source": [
    "%matplotlib inline"
   ]
  },
  {
   "cell_type": "code",
   "execution_count": 26,
   "metadata": {},
   "outputs": [],
   "source": [
    "import matplotlib.pyplot as plt"
   ]
  },
  {
   "cell_type": "code",
   "execution_count": 27,
   "metadata": {},
   "outputs": [
    {
     "data": {
      "text/plain": [
       "[<matplotlib.lines.Line2D at 0x2990ea91780>]"
      ]
     },
     "execution_count": 27,
     "metadata": {},
     "output_type": "execute_result"
    },
    {
     "data": {
      "image/png": "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\n",
      "text/plain": [
       "<Figure size 432x288 with 1 Axes>"
      ]
     },
     "metadata": {},
     "output_type": "display_data"
    }
   ],
   "source": [
    "plt.plot(np.random.randn(50).cumsum())"
   ]
  },
  {
   "cell_type": "code",
   "execution_count": 28,
   "metadata": {},
   "outputs": [],
   "source": [
    "a = [1, 2, 3]"
   ]
  },
  {
   "cell_type": "code",
   "execution_count": 29,
   "metadata": {},
   "outputs": [],
   "source": [
    "b = a"
   ]
  },
  {
   "cell_type": "code",
   "execution_count": 30,
   "metadata": {},
   "outputs": [],
   "source": [
    "a.append(4)"
   ]
  },
  {
   "cell_type": "code",
   "execution_count": 31,
   "metadata": {},
   "outputs": [
    {
     "data": {
      "text/plain": [
       "[1, 2, 3, 4]"
      ]
     },
     "execution_count": 31,
     "metadata": {},
     "output_type": "execute_result"
    }
   ],
   "source": [
    "a"
   ]
  },
  {
   "cell_type": "code",
   "execution_count": 33,
   "metadata": {},
   "outputs": [
    {
     "data": {
      "text/plain": [
       "[1, 2, 3, 4]"
      ]
     },
     "execution_count": 33,
     "metadata": {},
     "output_type": "execute_result"
    }
   ],
   "source": [
    "b"
   ]
  },
  {
   "cell_type": "code",
   "execution_count": 34,
   "metadata": {},
   "outputs": [],
   "source": [
    "s = 1231.15641"
   ]
  },
  {
   "cell_type": "code",
   "execution_count": 35,
   "metadata": {},
   "outputs": [
    {
     "data": {
      "text/plain": [
       "float"
      ]
     },
     "execution_count": 35,
     "metadata": {},
     "output_type": "execute_result"
    }
   ],
   "source": [
    "type(s)"
   ]
  },
  {
   "cell_type": "code",
   "execution_count": 36,
   "metadata": {},
   "outputs": [
    {
     "data": {
      "text/plain": [
       "1231"
      ]
     },
     "execution_count": 36,
     "metadata": {},
     "output_type": "execute_result"
    }
   ],
   "source": [
    "int(s)"
   ]
  },
  {
   "cell_type": "code",
   "execution_count": 37,
   "metadata": {},
   "outputs": [
    {
     "data": {
      "text/plain": [
       "1231.15641"
      ]
     },
     "execution_count": 37,
     "metadata": {},
     "output_type": "execute_result"
    }
   ],
   "source": [
    "float(s)"
   ]
  },
  {
   "cell_type": "code",
   "execution_count": 43,
   "metadata": {},
   "outputs": [],
   "source": [
    "def add_and_maybe_multiply(a, b, c=None):\n",
    "    result = a + b\n",
    "    \n",
    "    if c is not None:\n",
    "        result = result * c\n",
    "        \n",
    "    return result"
   ]
  },
  {
   "cell_type": "code",
   "execution_count": 55,
   "metadata": {},
   "outputs": [],
   "source": [
    "a = add_and_maybe_multiply(2, 2)\n",
    "b = add_and_maybe_multiply(2, 2,)\n",
    "c = add_and_maybe_multiply(2, 2, 2)"
   ]
  },
  {
   "cell_type": "code",
   "execution_count": 56,
   "metadata": {},
   "outputs": [
    {
     "data": {
      "text/plain": [
       "(4, 4, 8)"
      ]
     },
     "execution_count": 56,
     "metadata": {},
     "output_type": "execute_result"
    }
   ],
   "source": [
    "a, b, c"
   ]
  },
  {
   "cell_type": "code",
   "execution_count": 57,
   "metadata": {},
   "outputs": [],
   "source": [
    "from datetime import datetime, date, time"
   ]
  },
  {
   "cell_type": "code",
   "execution_count": 58,
   "metadata": {},
   "outputs": [
    {
     "data": {
      "text/plain": [
       "datetime.datetime(2011, 10, 29, 20, 30, 21)"
      ]
     },
     "execution_count": 58,
     "metadata": {},
     "output_type": "execute_result"
    }
   ],
   "source": [
    "dt = datetime(2011, 10, 29, 20, 30, 21)\n",
    "dt"
   ]
  },
  {
   "cell_type": "code",
   "execution_count": 60,
   "metadata": {},
   "outputs": [
    {
     "data": {
      "text/plain": [
       "'10/29/2011 20:30:21'"
      ]
     },
     "execution_count": 60,
     "metadata": {},
     "output_type": "execute_result"
    }
   ],
   "source": [
    "dt.strftime('%m/%d/%Y %H:%M:%S')"
   ]
  },
  {
   "cell_type": "code",
   "execution_count": 67,
   "metadata": {},
   "outputs": [
    {
     "ename": "SyntaxError",
     "evalue": "'return' outside function (<ipython-input-67-929427c804e2>, line 7)",
     "traceback": [
      "\u001b[1;36m  File \u001b[1;32m\"<ipython-input-67-929427c804e2>\"\u001b[1;36m, line \u001b[1;32m7\u001b[0m\n\u001b[1;33m    return total\u001b[0m\n\u001b[1;37m    ^\u001b[0m\n\u001b[1;31mSyntaxError\u001b[0m\u001b[1;31m:\u001b[0m 'return' outside function\n"
     ],
     "output_type": "error"
    }
   ],
   "source": [
    "sequence = [1, 2, None, 4, None, 5]\n",
    "total = 0\n",
    "for value in sequence:\n",
    "    if value is None:\n",
    "        continue\n",
    "    total += value\n",
    "    return total"
    "page 47"
   ]
  },
  {
   "cell_type": "code",
   "execution_count": null,
   "metadata": {},
   "outputs": [],
   "source": [
    ""
   ]
  }
 ],
 "metadata": {},
 "nbformat": 4,
 "nbformat_minor": 0
}
