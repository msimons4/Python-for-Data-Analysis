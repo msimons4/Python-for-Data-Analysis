{
 "cells": [
  {
   "cell_type": "markdown",
   "metadata": {},
   "source": [
    "## Installing or Updating Python Packages\n",
    "<br/>\n",
    "conda install _package name_<br/>\n",
    "pip install _package name_<br/>\n",
    "conda update _package name_<br/>\n",
    "pip install - -upgrade _package name_<br/>\n",
    "**Packages installed with conda should not be updated with pip**"
   ]
  },
  {
   "cell_type": "code",
   "execution_count": 1,
   "metadata": {},
   "outputs": [
    {
     "name": "stdout",
     "output_type": "stream",
     "text": [
      "hello\n"
     ]
    }
   ],
   "source": [
    "print('hello')"
   ]
  },
  {
   "cell_type": "code",
   "execution_count": null,
   "metadata": {},
   "outputs": [],
   "source": []
  }
 ],
 "metadata": {},
 "nbformat": 4,
 "nbformat_minor": 0
}
